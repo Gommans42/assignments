{
 "cells": [
  {
   "cell_type": "markdown",
   "metadata": {},
   "source": [
    "# Graded Assignment 2\n",
    "Mark Klik & Misja Mikkers\n",
    "\n",
    "# Packages\n",
    "\n",
    "# Assignment 1\n",
    "\n",
    "First load the `tidyverse` package:"
   ]
  },
  {
   "cell_type": "code",
   "execution_count": 71,
   "metadata": {},
   "outputs": [],
   "source": [
    "library(tidyverse)"
   ]
  },
  {
   "cell_type": "markdown",
   "metadata": {},
   "source": [
    "##  Assignment 1a\n",
    "\n",
    "Read the data file _graded_assignment_2.csv_ from disk:"
   ]
  },
  {
   "cell_type": "code",
   "execution_count": 72,
   "metadata": {},
   "outputs": [
    {
     "ename": "ERROR",
     "evalue": "Error in parse(text = x, srcfile = src): <text>:1:22: unexpected symbol\n1: data1 <- read.csv2(''graded_assignment_2.csv\n                         ^\n",
     "output_type": "error",
     "traceback": [
      "Error in parse(text = x, srcfile = src): <text>:1:22: unexpected symbol\n1: data1 <- read.csv2(''graded_assignment_2.csv\n                         ^\nTraceback:\n"
     ]
    }
   ],
   "source": [
    "data1 <- read.csv2(''graded_assignment_2.csv'')\n",
    "head(data1)"
   ]
  },
  {
   "cell_type": "markdown",
   "metadata": {},
   "source": [
    "## Assignment 1b\n",
    "\n",
    "Add column \"Health_status\" with containing values _1_ (Healthy) and _0_ (Unhealthy).\n",
    "A person is Healthy, when `FKG` equals 0 and `DKG` equals 0.\n",
    "\n",
    "So\n",
    "\n",
    "| FKG | DKG | Health_status   |\n",
    "|-----|-----|--------------   |\n",
    "| 0   | 0   | 1               |\n",
    "| 1   | 0   | 0               |\n",
    "| 0   | 1   | 0               |\n",
    "| 1   | 1   | 0               |\n",
    "\n",
    "Hint: you can use `ifelse()`:"
   ]
  },
  {
   "cell_type": "code",
   "execution_count": 73,
   "metadata": {},
   "outputs": [
    {
     "ename": "ERROR",
     "evalue": "Error in eval(expr, envir, enclos): object 'data1' not found\n",
     "output_type": "error",
     "traceback": [
      "Error in eval(expr, envir, enclos): object 'data1' not found\nTraceback:\n"
     ]
    }
   ],
   "source": [
    "data2 <- data1\n",
    "data2$Health_status <- ifelse(data2$FKG + data2$DKG == 0,1,0)\n",
    "head(data2)"
   ]
  },
  {
   "cell_type": "markdown",
   "metadata": {},
   "source": [
    "In the next datacamp course you will learn more about the package `dplyr`. For now we just give you some code. You can run the following script.\n",
    "\n",
    "First, we want to make \"Health_status\" a factor instead of a character"
   ]
  },
  {
   "cell_type": "code",
   "execution_count": 74,
   "metadata": {},
   "outputs": [
    {
     "ename": "ERROR",
     "evalue": "Error in eval(lhs, parent, parent): object 'data2' not found\n",
     "output_type": "error",
     "traceback": [
      "Error in eval(lhs, parent, parent): object 'data2' not found\nTraceback:\n",
      "1. data2 %>% mutate(Health_status = as.numeric(Health_status))",
      "2. eval(lhs, parent, parent)",
      "3. eval(lhs, parent, parent)"
     ]
    }
   ],
   "source": [
    "data2 <- data2 %>%\n",
    "  mutate(Health_status = as.numeric(Health_status))\n",
    "str(data2)"
   ]
  },
  {
   "cell_type": "markdown",
   "metadata": {},
   "source": [
    "Then, we want to count the number of healthy and unhealthy males and females"
   ]
  },
  {
   "cell_type": "code",
   "execution_count": 75,
   "metadata": {},
   "outputs": [
    {
     "ename": "ERROR",
     "evalue": "Error in eval(lhs, parent, parent): object 'data2' not found\n",
     "output_type": "error",
     "traceback": [
      "Error in eval(lhs, parent, parent): object 'data2' not found\nTraceback:\n",
      "1. data2 %>% group_by(Gender, Health_status) %>% summarise(Count_observations = n()) %>% \n .     mutate(Health_status = as.factor(Health_status))",
      "2. eval(lhs, parent, parent)",
      "3. eval(lhs, parent, parent)"
     ]
    }
   ],
   "source": [
    "data3 <- data2 %>%\n",
    "  group_by(Gender, Health_status) %>%\n",
    " summarise(Count_observations = n()) %>%\n",
    "  mutate(Health_status=as.factor(Health_status))\n",
    "\n",
    "data3"
   ]
  },
  {
   "cell_type": "markdown",
   "metadata": {},
   "source": [
    "## Assignment 2\n",
    "\n",
    "Recreate with the dataframe \"data3\" the following barchart ![](../Sourcedata/barchart.png)\n",
    "\n",
    "* Hint: see for changing the [legends and colors](http://www.cookbook-r.com/Graphs/Legends_(ggplot2)/)\n",
    "* Hint: the \"green\" color is in fact the color \"greenyellow\"\n",
    "* Hint: see for the [themes](http://ggplot2.tidyverse.org/reference/ggtheme.html): \n",
    "\n"
   ]
  },
  {
   "cell_type": "code",
   "execution_count": 76,
   "metadata": {},
   "outputs": [
    {
     "ename": "ERROR",
     "evalue": "Error in parse(text = x, srcfile = src): <text>:2:23: unexpected symbol\n1: ggplot(data3,aes(x = Gender, y = Count_observations, fill = Health_status)) + \n2: geom_bar(position = ''dodge\n                         ^\n",
     "output_type": "error",
     "traceback": [
      "Error in parse(text = x, srcfile = src): <text>:2:23: unexpected symbol\n1: ggplot(data3,aes(x = Gender, y = Count_observations, fill = Health_status)) + \n2: geom_bar(position = ''dodge\n                         ^\nTraceback:\n"
     ]
    }
   ],
   "source": [
    "ggplot(data3,aes(x = Gender, y = Count_observations, fill = Health_status)) + \n",
    "geom_bar(position = ''dodge'', stat = ''identity'') + \n",
    "scale_fill_manual(values=c(''red'', ''greenyellow''))"
   ]
  },
  {
   "cell_type": "markdown",
   "metadata": {},
   "source": [
    "End notebook"
   ]
  }
 ],
 "metadata": {
  "anaconda-cloud": {},
  "kernelspec": {
   "display_name": "R",
   "language": "R",
   "name": "ir"
  },
  "language_info": {
   "codemirror_mode": "r",
   "file_extension": ".r",
   "mimetype": "text/x-r-source",
   "name": "R",
   "pygments_lexer": "r",
   "version": "3.4.3"
  }
 },
 "nbformat": 4,
 "nbformat_minor": 1
}
